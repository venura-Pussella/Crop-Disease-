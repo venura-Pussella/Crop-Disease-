{
 "cells": [
  {
   "cell_type": "markdown",
   "metadata": {},
   "source": [
    "## TfLite - Offline Run "
   ]
  },
  {
   "cell_type": "code",
   "execution_count": 1,
   "metadata": {},
   "outputs": [
    {
     "name": "stderr",
     "output_type": "stream",
     "text": [
      "WARNING:absl:Compiled the loaded model, but the compiled metrics have yet to be built. `model.compile_metrics` will be empty until you train or evaluate the model.\n"
     ]
    },
    {
     "name": "stdout",
     "output_type": "stream",
     "text": [
      "INFO:tensorflow:Assets written to: C:\\Users\\VenuraP\\AppData\\Local\\Temp\\tmp_qtsn4fc\\assets\n"
     ]
    },
    {
     "name": "stderr",
     "output_type": "stream",
     "text": [
      "INFO:tensorflow:Assets written to: C:\\Users\\VenuraP\\AppData\\Local\\Temp\\tmp_qtsn4fc\\assets\n"
     ]
    },
    {
     "name": "stdout",
     "output_type": "stream",
     "text": [
      "Saved artifact at 'C:\\Users\\VenuraP\\AppData\\Local\\Temp\\tmp_qtsn4fc'. The following endpoints are available:\n",
      "\n",
      "* Endpoint 'serve'\n",
      "  args_0 (POSITIONAL_ONLY): TensorSpec(shape=(32, 256, 256, 3), dtype=tf.float32, name='input_layer')\n",
      "Output Type:\n",
      "  TensorSpec(shape=(32, 3), dtype=tf.float32, name=None)\n",
      "Captures:\n",
      "  1856970564304: TensorSpec(shape=(), dtype=tf.resource, name=None)\n",
      "  1856970566224: TensorSpec(shape=(), dtype=tf.resource, name=None)\n",
      "  1856970566608: TensorSpec(shape=(), dtype=tf.resource, name=None)\n",
      "  1856970567376: TensorSpec(shape=(), dtype=tf.resource, name=None)\n",
      "  1856970566800: TensorSpec(shape=(), dtype=tf.resource, name=None)\n",
      "  1856970566416: TensorSpec(shape=(), dtype=tf.resource, name=None)\n",
      "  1856970567568: TensorSpec(shape=(), dtype=tf.resource, name=None)\n",
      "  1856970568336: TensorSpec(shape=(), dtype=tf.resource, name=None)\n",
      "  1856970565264: TensorSpec(shape=(), dtype=tf.resource, name=None)\n",
      "  1856970569104: TensorSpec(shape=(), dtype=tf.resource, name=None)\n",
      "  1856970568720: TensorSpec(shape=(), dtype=tf.resource, name=None)\n",
      "  1856970569872: TensorSpec(shape=(), dtype=tf.resource, name=None)\n",
      "  1856970569680: TensorSpec(shape=(), dtype=tf.resource, name=None)\n",
      "  1856970570448: TensorSpec(shape=(), dtype=tf.resource, name=None)\n",
      "  1856970570640: TensorSpec(shape=(), dtype=tf.resource, name=None)\n",
      "  1856970571216: TensorSpec(shape=(), dtype=tf.resource, name=None)\n"
     ]
    }
   ],
   "source": [
    "import tensorflow as tf\n",
    "\n",
    "# Load your trained model\n",
    "model = tf.keras.models.load_model('C:/Users/VenuraP/Desktop/Browns-Data-Projects/ML-Projects/POC/Potato-Disease-Detection-Project/saved_models/potato.h5')\n",
    "\n",
    "# Convert to TFLite format\n",
    "converter = tf.lite.TFLiteConverter.from_keras_model(model)\n",
    "tflite_model = converter.convert()\n",
    "\n",
    "# Save the TFLite model\n",
    "with open('model.tflite', 'wb') as f:\n",
    "    f.write(tflite_model)"
   ]
  }
 ],
 "metadata": {
  "kernelspec": {
   "display_name": "potato",
   "language": "python",
   "name": "python3"
  },
  "language_info": {
   "codemirror_mode": {
    "name": "ipython",
    "version": 3
   },
   "file_extension": ".py",
   "mimetype": "text/x-python",
   "name": "python",
   "nbconvert_exporter": "python",
   "pygments_lexer": "ipython3",
   "version": "3.11.10"
  }
 },
 "nbformat": 4,
 "nbformat_minor": 2
}
